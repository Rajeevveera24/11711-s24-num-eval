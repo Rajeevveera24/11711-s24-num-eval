{
 "cells": [
  {
   "cell_type": "code",
   "execution_count": 2,
   "metadata": {},
   "outputs": [],
   "source": [
    "import os\n",
    "import json"
   ]
  },
  {
   "cell_type": "code",
   "execution_count": 3,
   "metadata": {},
   "outputs": [],
   "source": [
    "\n",
    "MODEL_MATHCODER_CL_7B = 'MathCoder-CL-7b'\n",
    "MODEL_MATHCODER_CL_13B = 'MathCoder-CL-13b'\n",
    "MODEL_MATHCODER_CL_34B = 'MathCoder-CL-34b'\n",
    "MODEL_MATHCODER_L_7B = 'MathCoder-L-7b'\n",
    "MODEL_MATHCODER_L_13B = 'MathCoder-L-13b'\n",
    "MODEL_MATHCODER_L_70B = 'MathCoder-L-70b'\n",
    "\n",
    "DATASET_GSM_8K = 'GSM8K'"
   ]
  },
  {
   "cell_type": "code",
   "execution_count": 4,
   "metadata": {},
   "outputs": [
    {
     "name": "stdout",
     "output_type": "stream",
     "text": [
      "MathCoder-CL-7b\n",
      "\tGSM8K_test_result.jsonl\n",
      "\tGSM8K_test_result-20230916-2152.jsonl\n",
      "\tGSM8K_test_result.json\n",
      "MathCoder-CL-13b\n",
      "\tGSM8K_test_result-20230916-1444.jsonl\n",
      "\tGSM8K_test_result.jsonl\n",
      "MathCoder-CL-34b\n",
      "\tGSM8K_test_result-20230916-1730.jsonl\n",
      "\tGSM8K_test_result-20230916-1443-wrong.jsonl\n",
      "\tGSM8K_test_result-20230916-1443-correct.jsonl\n",
      "\tGSM8K_test_result-20230917-1807.jsonl\n",
      "\tGSM8K_test_result.jsonl\n",
      "\tGSM8K_test_result-20230916-2019.jsonl\n",
      "\tGSM8K_test_result-20230916-1443.jsonl\n",
      "\tGSM8K_test_result-20230913-1304.jsonl\n",
      "\tGSM8K_test_result-20230917-0129.jsonl\n",
      "\tGSM8K_test_result-20230916-1730-wrong.jsonl\n",
      "\tGSM8K_test_result-20230916-1730-correct.jsonl\n",
      "\tGSM8K_test_result-20230913-1304-wrong.jsonl\n",
      "\tGSM8K_test_result-20230913-1304-correct.jsonl\n",
      "\tGSM8K_test_result-20230917-1807-wrong.jsonl\n",
      "MathCoder-L-7b\n",
      "\tGSM8K_test_result-20230916-1751-correct.json\n",
      "\tGSM8K_test_result-20230916-1751-correct.jsonl\n",
      "\tGSM8K_test_result.jsonl\n",
      "\tGSM8K_test_result-20230916-1751-wrong.jsonl\n",
      "\tGSM8K_test_result-20230916-1751.jsonl\n",
      "\tGSM8K_test_result-20230916-1751-wrong.json\n",
      "MathCoder-L-13b\n",
      "\tGSM8K_test_result.jsonl\n",
      "\tGSM8K_test_result-20230916-1348-wrong.jsonl\n",
      "\tGSM8K_test_result-20230916-1348.jsonl\n",
      "\tGSM8K_test_result-20230916-1348-correct.jsonl\n",
      "MathCoder-L-70b\n",
      "\tGSM8K_test_result-20230919-0351.jsonl\n",
      "\tGSM8K_test_result-20230918-2042.jsonl\n",
      "\tGSM8K_test_result.jsonl\n",
      "\tGSM8K_test_result-20230918-2042-correct.jsonl\n",
      "\tGSM8K_test_result-20230919-0351-wrong.jsonl\n",
      "\tGSM8K_test_result-20230919-0018-wrong.jsonl\n",
      "\tGSM8K_test_result-20230919-0018.jsonl\n",
      "\tGSM8K_test_result-20230919-0351-correct.jsonl\n",
      "\tGSM8K_test_result-20230919-0018-correct.jsonl\n",
      "\tGSM8K_test_result-20230918-2042-wrong.jsonl\n"
     ]
    }
   ],
   "source": [
    "def load_jsonl(file_path):\n",
    "    data = []\n",
    "    with open(file_path, 'r') as f:\n",
    "        for line in f:\n",
    "            data.append(json.loads(line))\n",
    "    return data\n",
    "\n",
    "data = {}\n",
    "\n",
    "for model in [MODEL_MATHCODER_CL_7B, MODEL_MATHCODER_CL_13B, MODEL_MATHCODER_CL_34B, MODEL_MATHCODER_L_7B, MODEL_MATHCODER_L_13B, MODEL_MATHCODER_L_70B]:\n",
    "    print(model)\n",
    "    for file in os.listdir(os.path.join(model, DATASET_GSM_8K)):\n",
    "        print(\"\\t\" + file)\n",
    "        if file.endswith('.jsonl'):\n",
    "            datum = load_jsonl(os.path.join(model, DATASET_GSM_8K, file))\n",
    "            data[model + '-' + file[:-6]] = datum\n"
   ]
  },
  {
   "cell_type": "code",
   "execution_count": 5,
   "metadata": {},
   "outputs": [
    {
     "name": "stdout",
     "output_type": "stream",
     "text": [
      "MathCoder-L-7b-GSM8K_test_result-20230916-1751-correct 849\n",
      "MathCoder-L-7b-GSM8K_test_result-20230916-1751-wrong 470\n",
      "MathCoder-L-7b-GSM8K_test_result-20230916-1751 1319\n"
     ]
    }
   ],
   "source": [
    "# for k in data.keys():\n",
    "#     print(k)\n",
    "\n",
    "llama_7b_keys = ['MathCoder-L-7b-GSM8K_test_result-20230916-1751-correct',\n",
    "                 'MathCoder-L-7b-GSM8K_test_result-20230916-1751-wrong', \n",
    "                 'MathCoder-L-7b-GSM8K_test_result-20230916-1751']\n",
    "\n",
    "data_llama_7b = {k: data[k] for k in llama_7b_keys}\n",
    "data_llama_7b\n",
    "# print(data.k/eys())\n",
    "\n",
    "for k, v in data_llama_7b.items():\n",
    "    print(k, len(v))\n",
    "# data_llama_7b = data[MODEL_MATHCODER_L_7B + '-llama']\n"
   ]
  },
  {
   "cell_type": "code",
   "execution_count": 6,
   "metadata": {},
   "outputs": [
    {
     "name": "stdout",
     "output_type": "stream",
     "text": [
      "470 849\n"
     ]
    }
   ],
   "source": [
    "# Analyze some wrong answers from MathCoder-L-7b\n",
    "\n",
    "data_llama_7b_correct = data_llama_7b['MathCoder-L-7b-GSM8K_test_result-20230916-1751-correct']\n",
    "data_llama_7b_wrong = data_llama_7b['MathCoder-L-7b-GSM8K_test_result-20230916-1751-wrong']\n",
    "print(len(data_llama_7b_wrong), len(data_llama_7b_correct))\n",
    "\n",
    "\n",
    "#Metrics\n",
    "    ## Number of times the ground truth was a decimal\n",
    "    ## steps (lines) in ground truth\n",
    "    ## types of operations in ground truth: +, -, *, /, % \n",
    "    ## cases where answer was right (eg; model outputs 0.666666 instead of 0.67)\n",
    "    ## Number of times the output was an integer that was within 20% of the ground truth answer"
   ]
  },
  {
   "cell_type": "code",
   "execution_count": 7,
   "metadata": {},
   "outputs": [
    {
     "name": "stdout",
     "output_type": "stream",
     "text": [
      "800\n"
     ]
    }
   ],
   "source": [
    "import torch\n",
    "from torch.utils.data import Dataset, DataLoader\n",
    "\n",
    "class MathDataset(Dataset):\n",
    "    def __init__(self, data):\n",
    "        self.data = []\n",
    "        self.id_mapping = {}\n",
    "        for i, d in enumerate(data):\n",
    "            id = d['id']\n",
    "            d_ = {}\n",
    "            d_['id'] = id\n",
    "            d_['ground_truth'] = d['ground_truth']\n",
    "            try:\n",
    "                d_['model_answer'] = d['model_answer']\n",
    "            except KeyError:\n",
    "                pass\n",
    "            try:\n",
    "                d_['completion'] = d['completion']\n",
    "            except KeyError:\n",
    "                pass\n",
    "            try:\n",
    "                d_['debug_result'] = d['debug_result']\n",
    "            except KeyError:\n",
    "                # print(\"Debugged Results do not exist for id: \", id)\n",
    "                pass\n",
    "            self.data.append(d_)\n",
    "            self.id_mapping[id] = i \n",
    "\n",
    "    def __len__(self):\n",
    "        return len(self.data)\n",
    "\n",
    "    def __getitem__(self, id):\n",
    "        return self.data[int(id)]\n",
    "\n",
    "    def get_by_id(self, id):\n",
    "        return self.data[self.id_mapping[id]]\n",
    "dataset_llama_7b_wrong = MathDataset(data_llama_7b_wrong)\n",
    "dataset_llama_7b_correct = MathDataset(data_llama_7b_correct)\n",
    "\n",
    "print(dataset_llama_7b_wrong.get_by_id('506')['model_answer'])"
   ]
  },
  {
   "cell_type": "code",
   "execution_count": 13,
   "metadata": {},
   "outputs": [
    {
     "name": "stdout",
     "output_type": "stream",
     "text": [
      "4.419316843345112 5.080851063829787\n"
     ]
    }
   ],
   "source": [
    "### Average number of steps in ground truth's solution\n",
    "\n",
    "def average_steps(dataset):\n",
    "    steps = 0\n",
    "    for i, data in enumerate(dataset):\n",
    "        # print(data['ground_truth']['solution'])\n",
    "        steps += len(data['ground_truth']['solution'].split('\\n'))\n",
    "    return steps/len(dataset)\n",
    "\n",
    "avg_steps_per_ground_truth_answer_correct = average_steps(dataset_llama_7b_correct)\n",
    "avg_steps_per_ground_truth_answer_wrong = average_steps(dataset_llama_7b_wrong)\n",
    "\n",
    "print(avg_steps_per_ground_truth_answer_correct, avg_steps_per_ground_truth_answer_wrong)"
   ]
  },
  {
   "cell_type": "code",
   "execution_count": 14,
   "metadata": {},
   "outputs": [
    {
     "name": "stdout",
     "output_type": "stream",
     "text": [
      "0.5076560659599529 0.6042553191489362\n",
      "0.7962308598351001 0.7829787234042553\n",
      "0.0636042402826855 0.08297872340425531\n"
     ]
    }
   ],
   "source": [
    "def operations_in_ground_truth(dataset, op):\n",
    "    assert op in ['+', '-', '*', '/', '%'], \"Invalid operation\"\n",
    "    cnt = 0\n",
    "    for i, data in enumerate(dataset):\n",
    "            if op in data['ground_truth']['solution']:\n",
    "                cnt += 1\n",
    "    return cnt\n",
    "\n",
    "num_div_ops_correct = operations_in_ground_truth(dataset_llama_7b_correct, '/')\n",
    "num_div_ops_wrong = operations_in_ground_truth(dataset_llama_7b_wrong, '/')\n",
    "ratio_div_ops_correct = num_div_ops_correct/len(dataset_llama_7b_correct)\n",
    "ratio_div_ops_wrong = num_div_ops_wrong/len(dataset_llama_7b_wrong)\n",
    "\n",
    "num_mul_ops_correct = operations_in_ground_truth(dataset_llama_7b_correct, '*')\n",
    "num_mul_ops_wrong = operations_in_ground_truth(dataset_llama_7b_wrong, '*')\n",
    "ratio_mul_ops_correct = num_mul_ops_correct/len(dataset_llama_7b_correct)\n",
    "ratio_mul_ops_wrong = num_mul_ops_wrong/len(dataset_llama_7b_wrong)\n",
    "\n",
    "num_rem_ops_correct = operations_in_ground_truth(dataset_llama_7b_correct, '%')\n",
    "num_rem_ops_wrong = operations_in_ground_truth(dataset_llama_7b_wrong, '%')\n",
    "ratio_rem_ops_correct = num_rem_ops_correct/len(dataset_llama_7b_correct)\n",
    "ratio_rem_ops_wrong = num_rem_ops_wrong/len(dataset_llama_7b_wrong)\n",
    "\n",
    "print(ratio_div_ops_correct, ratio_div_ops_wrong)\n",
    "print(ratio_mul_ops_correct, ratio_mul_ops_wrong)\n",
    "print(ratio_rem_ops_correct, ratio_rem_ops_wrong)"
   ]
  },
  {
   "cell_type": "code",
   "execution_count": 15,
   "metadata": {},
   "outputs": [
    {
     "name": "stdout",
     "output_type": "stream",
     "text": [
      "0.0 0.0\n",
      "0.0 0.1702127659574468\n",
      "0.8297872340425532\n",
      "0.0\n",
      "0.26106666666666667\n"
     ]
    }
   ],
   "source": [
    "def count_decimal_ground_truth(dataset, debug=False):\n",
    "    cnt = 0\n",
    "    for i, data in enumerate(dataset):\n",
    "        ground_truth_answer = data['ground_truth']['answer']\n",
    "        if '/' in ground_truth_answer or '\\\\' in ground_truth_answer:\n",
    "            cnt += 1\n",
    "            if debug:\n",
    "                print(data['id'])\n",
    "        elif '.' in ground_truth_answer:\n",
    "            try:\n",
    "                answer = float(ground_truth_answer)\n",
    "                if answer.is_integer():\n",
    "                    pass\n",
    "                else:\n",
    "                    cnt += 1\n",
    "                    if debug:\n",
    "                        print(data['id'])\n",
    "            except ValueError:\n",
    "                pass\n",
    "    return cnt\n",
    "\n",
    "def count_decimal_answer(dataset, debug=False):\n",
    "    cnt = 0\n",
    "    for i, data in enumerate(dataset):\n",
    "        answer = data['completion']\n",
    "        if '/' in answer or '\\\\' in answer:\n",
    "            cnt += 1\n",
    "            if debug:\n",
    "                print(data['id'])\n",
    "        elif '.' in answer:\n",
    "            try:\n",
    "                answer = float(answer)\n",
    "                if answer.is_integer():\n",
    "                    pass\n",
    "                else:\n",
    "                    cnt += 1\n",
    "                    if debug:\n",
    "                        print(data['id'])\n",
    "            except ValueError:\n",
    "                pass\n",
    "    return cnt\n",
    "\n",
    "num_decimal_ground_truth_correct = count_decimal_ground_truth(dataset_llama_7b_correct)\n",
    "num_decimal_ground_truth_wrong = count_decimal_ground_truth(dataset_llama_7b_wrong)\n",
    "ratio_decimal_ground_truth_correct = num_decimal_ground_truth_correct/len(dataset_llama_7b_correct)\n",
    "ratio_decimal_ground_truth_wrong = num_decimal_ground_truth_wrong/len(dataset_llama_7b_wrong)\n",
    "\n",
    "# print(dataset_llama_7b_wrong.get_by_id('506').keys())\n",
    "num_decimal_answer_correct = count_decimal_answer(dataset_llama_7b_correct, debug=True)\n",
    "num_decimal_answer_wrong = count_decimal_answer(dataset_llama_7b_wrong)\n",
    "ratio_decimal_answer_correct = num_decimal_answer_correct/len(dataset_llama_7b_correct)\n",
    "ratio_decimal_answer_wrong = num_decimal_answer_wrong/len(dataset_llama_7b_wrong)\n",
    "num_integer_answer_wrong = len(dataset_llama_7b_wrong) - num_decimal_answer_wrong\n",
    "ratio_integer_answer_wrong = num_integer_answer_wrong/len(dataset_llama_7b_wrong)\n",
    "\n",
    "\n",
    "print(ratio_decimal_ground_truth_correct, ratio_decimal_ground_truth_wrong)\n",
    "print(ratio_decimal_answer_correct, ratio_decimal_answer_wrong)\n",
    "print(ratio_integer_answer_wrong)\n",
    "\n",
    "gsm8k_train = MathDataset(load_jsonl('/home/raj/code/nlp/11711-s24-num-eval/MathCoder/data/GSM8K_train_post.jsonl'))\n",
    "\n",
    "num_decimal_gsm8k_train = count_decimal_ground_truth(gsm8k_train)\n",
    "print(num_decimal_gsm8k_train/len(gsm8k_train))\n",
    "\n",
    "math_1_train = MathDataset(load_jsonl('/home/raj/code/nlp/11711-s24-num-eval/MathCoder/data/MATH_train_post.jsonl'))\n",
    "\n",
    "num_decimal_math_1_train = count_decimal_ground_truth(math_1_train)\n",
    "print(num_decimal_math_1_train/len(math_1_train))"
   ]
  },
  {
   "cell_type": "code",
   "execution_count": 20,
   "metadata": {},
   "outputs": [
    {
     "name": "stdout",
     "output_type": "stream",
     "text": [
      "12\n",
      "3\n",
      "10\n",
      "3\n"
     ]
    }
   ],
   "source": [
    "print(max([len(d['ground_truth']['solution'].split('\\n')) for d in dataset_llama_7b_wrong]))\n",
    "print(min([len(d['ground_truth']['solution'].split('\\n')) for d in dataset_llama_7b_wrong]))\n",
    "\n",
    "print(max([len(d['ground_truth']['solution'].split('\\n')) for d in dataset_llama_7b_correct]))\n",
    "print(min([len(d['ground_truth']['solution'].split('\\n')) for d in dataset_llama_7b_correct]))"
   ]
  },
  {
   "cell_type": "code",
   "execution_count": 39,
   "metadata": {},
   "outputs": [
    {
     "name": "stdout",
     "output_type": "stream",
     "text": [
      "4.419316843345112 5.080851063829787\n",
      "9.170789163722025 12.912765957446808\n",
      "10 3\n",
      "12 3\n",
      "48 2\n",
      "48 2\n"
     ]
    }
   ],
   "source": [
    "gt_lens_correct = [len(d['ground_truth']['solution'].split('\\n')) for d in dataset_llama_7b_correct]\n",
    "answer_lens_correct = [len(d['debug_result'])-2 for d in dataset_llama_7b_correct]\n",
    "\n",
    "gt_lens_wrong = [len(d['ground_truth']['solution'].split('\\n')) for d in dataset_llama_7b_wrong]\n",
    "answer_lens_wrong = [len(d['debug_result'])-2 for d in dataset_llama_7b_wrong]\n",
    "\n",
    "print(sum(gt_lens_correct)/len(gt_lens_correct), sum(gt_lens_wrong)/len(gt_lens_wrong))\n",
    "print(sum(answer_lens_correct)/len(answer_lens_correct), sum(answer_lens_wrong)/len(answer_lens_wrong))\n",
    "\n",
    "print(max(gt_lens_correct), min(gt_lens_correct))\n",
    "print(max(gt_lens_wrong), min(gt_lens_wrong))\n",
    "print(max(answer_lens_correct), min(answer_lens_correct))\n",
    "print(max(answer_lens_wrong), min(answer_lens_wrong))"
   ]
  },
  {
   "cell_type": "code",
   "execution_count": 40,
   "metadata": {},
   "outputs": [
    {
     "data": {
      "image/png": "[encoded data removed]",
      "text/plain": [
       "<Figure size 640x480 with 6 Axes>"
      ]
     },
     "metadata": {},
     "output_type": "display_data"
    }
   ],
   "source": [
    "import matplotlib.pyplot as plt\n",
    "\n",
    "plt.subplot(3, 2, 1)\n",
    "#Put histohram in first subplot\n",
    "plt.hist(gt_lens_correct, bins=20)\n",
    "plt.subplot(3, 2, 2)\n",
    "plt.hist(gt_lens_wrong, bins=20)\n",
    "\n",
    "plt.subplot(3, 2, 3)\n",
    "plt.hist(answer_lens_correct, bins=20)\n",
    "plt.subplot(3, 2, 4)\n",
    "plt.hist(answer_lens_wrong, bins=20)\n",
    "# Put scatter plot in third row of subplots\n",
    "plt.subplot(3, 2, 5)\n",
    "plt.scatter(gt_lens_correct, answer_lens_correct)\n",
    "plt.subplot(3, 2, 6)\n",
    "plt.scatter(gt_lens_wrong, answer_lens_wrong)\n",
    "plt.show()"
   ]
  },
  {
   "cell_type": "code",
   "execution_count": 46,
   "metadata": {},
   "outputs": [
    {
     "name": "stdout",
     "output_type": "stream",
     "text": [
      "0.967020023557126 0.3680851063829787\n",
      "0.967020023557126 0.2127659574468085\n",
      "0.967020023557126 0.14468085106382977\n",
      "0.967020023557126 0.06170212765957447\n",
      "0.967020023557126 0.029787234042553193\n"
     ]
    }
   ],
   "source": [
    "def count_answer_off_by_percentage(dataset, percentage):\n",
    "    cnt = 0\n",
    "    for i, data in enumerate(dataset):\n",
    "        try:\n",
    "            answer = float(data['completion'])\n",
    "            ground_truth = float(data['ground_truth']['answer'])\n",
    "            if abs(answer - ground_truth)/ground_truth <= (percentage/100):\n",
    "                cnt += 1\n",
    "        except ValueError:\n",
    "            pass\n",
    "    return cnt\n",
    "\n",
    "def count_answer_off_by_factor()\n",
    "\n",
    "\n",
    "num_answer_off_by_50_correct = count_answer_off_by_percentage(dataset_llama_7b_correct, 50)\n",
    "num_answer_off_by_50_wrong = count_answer_off_by_percentage(dataset_llama_7b_wrong, 50)\n",
    "\n",
    "num_answer_off_by_30_correct = count_answer_off_by_percentage(dataset_llama_7b_correct, 30)\n",
    "num_answer_off_by_30_wrong = count_answer_off_by_percentage(dataset_llama_7b_wrong, 30)\n",
    "\n",
    "num_answer_off_by_20_correct = count_answer_off_by_percentage(dataset_llama_7b_correct, 20)\n",
    "num_answer_off_by_20_wrong = count_answer_off_by_percentage(dataset_llama_7b_wrong, 20)\n",
    "\n",
    "num_answer_off_by_10_correct = count_answer_off_by_percentage(dataset_llama_7b_correct, 10)\n",
    "num_answer_off_by_10_wrong = count_answer_off_by_percentage(dataset_llama_7b_wrong, 10)\n",
    "\n",
    "num_answer_off_by_5_correct = count_answer_off_by_percentage(dataset_llama_7b_correct, 5)\n",
    "num_answer_off_by_5_wrong = count_answer_off_by_percentage(dataset_llama_7b_wrong, 5)\n",
    "\n",
    "print(num_answer_off_by_50_correct/len(dataset_llama_7b_correct), num_answer_off_by_50_wrong/len(dataset_llama_7b_wrong))\n",
    "print(num_answer_off_by_30_correct/len(dataset_llama_7b_correct), num_answer_off_by_30_wrong/len(dataset_llama_7b_wrong))\n",
    "print(num_answer_off_by_20_correct/len(dataset_llama_7b_correct), num_answer_off_by_20_wrong/len(dataset_llama_7b_wrong))\n",
    "print(num_answer_off_by_10_correct/len(dataset_llama_7b_correct), num_answer_off_by_10_wrong/len(dataset_llama_7b_wrong))\n",
    "print(num_answer_off_by_5_correct/len(dataset_llama_7b_correct), num_answer_off_by_5_wrong/len(dataset_llama_7b_wrong))"
   ]
  }
 ],
 "metadata": {
  "kernelspec": {
   "display_name": "Python 3",
   "language": "python",
   "name": "python3"
  },
  "language_info": {
   "codemirror_mode": {
    "name": "ipython",
    "version": 3
   },
   "file_extension": ".py",
   "mimetype": "text/x-python",
   "name": "python",
   "nbconvert_exporter": "python",
   "pygments_lexer": "ipython3",
   "version": "3.11.5"
  }
 },
 "nbformat": 4,
 "nbformat_minor": 2
}
